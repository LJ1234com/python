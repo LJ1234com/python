{
 "cells": [
  {
   "cell_type": "code",
   "execution_count": 3,
   "metadata": {},
   "outputs": [],
   "source": [
    "class Parent(object):\n",
    "    def __init__(self):\n",
    "        self.a = 'aa'\n",
    "        \n",
    "    def __action(self):          # 父类的私有方法\n",
    "        print('调用父类私有方法')\n",
    "        \n",
    "    def action(self):\n",
    "        print('调用父类')"
   ]
  },
  {
   "cell_type": "markdown",
   "metadata": {},
   "source": [
    "### 1. 继承，调用父类属性方法\n",
    "1.1 如果子类没有重写父类的方法，当调用该方法的时候，会调用父类的方法，当子类重写了父类的方法，默认是调用自身的方法。"
   ]
  },
  {
   "cell_type": "code",
   "execution_count": 13,
   "metadata": {},
   "outputs": [
    {
     "name": "stdout",
     "output_type": "stream",
     "text": [
      "调用父类\n",
      "调用父类私有方法\n"
     ]
    },
    {
     "data": {
      "text/plain": [
       "'aa'"
      ]
     },
     "execution_count": 13,
     "metadata": {},
     "output_type": "execute_result"
    }
   ],
   "source": [
    "class Child1(Parent):\n",
    "    pass  \n",
    "\n",
    "child1 = Child1()          # 子类Son 继承父类Father的所有属性和方法\n",
    "child1.action()            # 调用父类方法\n",
    "child1._Parent__action()   # 调用父类私有方法\n",
    "child1.a  "
   ]
  },
  {
   "cell_type": "code",
   "execution_count": 17,
   "metadata": {},
   "outputs": [
    {
     "name": "stdout",
     "output_type": "stream",
     "text": [
      "子类重写父类\n"
     ]
    },
    {
     "data": {
      "text/plain": [
       "'bb'"
      ]
     },
     "execution_count": 17,
     "metadata": {},
     "output_type": "execute_result"
    }
   ],
   "source": [
    "class Child2(Parent):\n",
    "    def __init__(self):\n",
    "        self.a = 'bb'\n",
    "        \n",
    "    def action(self):\n",
    "        print('子类重写父类')\n",
    "        \n",
    "child2 = Child2()\n",
    "child2.action()            # 调用自身的action方法而不是父类的action方法\n",
    "child2.a  "
   ]
  },
  {
   "cell_type": "markdown",
   "metadata": {},
   "source": [
    "1.2 子类Son已经重写了父类Father的action的方法，并且子类Son也有初始化，因此，子类会调用自身的action方法和属性。"
   ]
  },
  {
   "cell_type": "code",
   "execution_count": 20,
   "metadata": {},
   "outputs": [
    {
     "name": "stdout",
     "output_type": "stream",
     "text": [
      "调用父类\n"
     ]
    }
   ],
   "source": [
    "class Child3(Parent):\n",
    "    def __init__(self):\n",
    "        pass\n",
    "\n",
    "    def action(self):\n",
    "        super().action()\n",
    "        \n",
    "child3 = Child3()\n",
    "child3.action()\n",
    "# print(child3.a)    #不能继承属性"
   ]
  },
  {
   "cell_type": "markdown",
   "metadata": {},
   "source": [
    "### 2. 强制调用父类私有属性方法\n",
    "父类的私有方法,_如__action(self)，如果用super().__action()去调，会报错,其实编译器是把这个方法的名字改成了_Father__action()(可用dir(Father)查看), 如果强制调用,要用super()._Father__action()"
   ]
  },
  {
   "cell_type": "code",
   "execution_count": 25,
   "metadata": {},
   "outputs": [
    {
     "name": "stdout",
     "output_type": "stream",
     "text": [
      "调用父类私有方法\n"
     ]
    }
   ],
   "source": [
    "class Child4(Parent):\n",
    "    def __init__(self):\n",
    "        pass\n",
    "\n",
    "    def action1(self):\n",
    "        super().__action()\n",
    "\n",
    "    def action2(self):\n",
    "        super()._Parent__action()\n",
    "    \n",
    "child4 = Child4()\n",
    "# child4.action1()     # \n",
    "child4.action2()   "
   ]
  },
  {
   "cell_type": "markdown",
   "metadata": {},
   "source": [
    "### 3. 调用父类的__init__方法\n",
    "若子类定义了 __init__ 方法,则父类的属性是不能直接调用的，会报错,可在子类的 __init__中调用一下父类的 __init__ 方法,这样就可以调用了"
   ]
  },
  {
   "cell_type": "code",
   "execution_count": 27,
   "metadata": {},
   "outputs": [],
   "source": [
    "class Parent(object):\n",
    "    def __init__(self):\n",
    "        self.a = 1\n",
    "        self.b = 2"
   ]
  },
  {
   "cell_type": "code",
   "execution_count": 31,
   "metadata": {},
   "outputs": [
    {
     "data": {
      "text/plain": [
       "2"
      ]
     },
     "execution_count": 31,
     "metadata": {},
     "output_type": "execute_result"
    }
   ],
   "source": [
    "class Child1(Parent):\n",
    "    def __init__(self):\n",
    "        self.b = 2\n",
    "\n",
    "child1 = Child1()\n",
    "# child1.a       # 不能调用\n",
    "child1.b"
   ]
  },
  {
   "cell_type": "code",
   "execution_count": 33,
   "metadata": {},
   "outputs": [
    {
     "name": "stdout",
     "output_type": "stream",
     "text": [
      "5\n",
      "7\n"
     ]
    }
   ],
   "source": [
    "class Child2(Parent):\n",
    "    def __init__(self):\n",
    "        super().__init__()\n",
    "        self.a = 5\n",
    "\n",
    "    def add(self):\n",
    "        return self.a + self.b\n",
    "child2 = Child2()\n",
    "print(child2.a)\n",
    "print(child2.add())"
   ]
  },
  {
   "cell_type": "code",
   "execution_count": 34,
   "metadata": {},
   "outputs": [
    {
     "name": "stdout",
     "output_type": "stream",
     "text": [
      "5\n",
      "7\n"
     ]
    }
   ],
   "source": [
    "class Child3(Parent):\n",
    "    def __init__(self):\n",
    "        super(Child3, self).__init__()\n",
    "        self.a = 5\n",
    "\n",
    "    def add(self):\n",
    "        return self.a + self.b\n",
    "child3 = Child3()\n",
    "print(child2.a)\n",
    "print(child2.add())   \n",
    "    "
   ]
  },
  {
   "cell_type": "code",
   "execution_count": 37,
   "metadata": {},
   "outputs": [
    {
     "name": "stdout",
     "output_type": "stream",
     "text": [
      "ttt\n"
     ]
    }
   ],
   "source": [
    "class Parent(object):\n",
    "    def __init__(self, name):\n",
    "        self.name = name\n",
    "\n",
    "class Child4(Parent):\n",
    "    def __init__(self):\n",
    "        super(Child4, self).__init__('ttt')\n",
    "\n",
    "\n",
    "child4 = Child4()\n",
    "print(child4.name)"
   ]
  },
  {
   "cell_type": "markdown",
   "metadata": {},
   "source": [
    "### 4. super的使用\n",
    "* super主要来调用父类方法来显示调用父类，在子类中，一般会定义与父类相同的属性（数据属性，方法），从而来实现子类特有的行为。也就是说，子类会继承父类的所有的属性和方法，子类也可以覆盖父类同名的属性和方法"
   ]
  },
  {
   "cell_type": "code",
   "execution_count": 38,
   "metadata": {},
   "outputs": [
    {
     "name": "stdout",
     "output_type": "stream",
     "text": [
      "this is from Father\n",
      "this is from son\n",
      "Son value\n"
     ]
    }
   ],
   "source": [
    "class Father(object):\n",
    "    value = 'Father value'\n",
    "    def fun(self):\n",
    "        print('this is from Father')\n",
    "\n",
    "\n",
    "class Son(Father):\n",
    "    value = 'Son value'\n",
    "    def fun2(self):\n",
    "        print('this is from son')\n",
    "\n",
    "\n",
    "son = Son()\n",
    "son.fun()\n",
    "son.fun2()\n",
    "print(son.value)"
   ]
  },
  {
   "cell_type": "markdown",
   "metadata": {},
   "source": [
    "* 有时可能需要在子类中访问父类的一些属性，可通过父类名直接访问父类的属性，当调用父类的方法是需要将”self”显示的传递进去的方式"
   ]
  },
  {
   "cell_type": "code",
   "execution_count": 39,
   "metadata": {},
   "outputs": [
    {
     "name": "stdout",
     "output_type": "stream",
     "text": [
      "this is from son\n",
      "this is from Father\n"
     ]
    }
   ],
   "source": [
    "class Father(object):\n",
    "    value = 'Father value'\n",
    "    def fun(self):\n",
    "        print('this is from Father')\n",
    "\n",
    "\n",
    "class Son(Father):\n",
    "    value = 'Son value'\n",
    "    def fun(self):\n",
    "        print('this is from son')\n",
    "        Father.fun(self)\n",
    "\n",
    "\n",
    "son = Son()\n",
    "son.fun()"
   ]
  },
  {
   "cell_type": "markdown",
   "metadata": {},
   "source": [
    "* 上面的方式的缺点是，需要经父类名硬编码到子类中，为了解决这个问题，可以使用Python中的super关键字"
   ]
  },
  {
   "cell_type": "code",
   "execution_count": 40,
   "metadata": {},
   "outputs": [
    {
     "name": "stdout",
     "output_type": "stream",
     "text": [
      "this is from son\n",
      "this is from Father\n"
     ]
    }
   ],
   "source": [
    "class Father(object):\n",
    "    value = 'Father value'\n",
    "    def fun(self):\n",
    "        print('this is from Father')\n",
    "\n",
    "\n",
    "class Son(Father):\n",
    "    value = 'Son value'\n",
    "    def fun(self):\n",
    "        print('this is from son')\n",
    "        super(Son, self).fun()\n",
    "\n",
    "\n",
    "son = Son()\n",
    "son.fun()"
   ]
  },
  {
   "cell_type": "markdown",
   "metadata": {},
   "source": [
    "## Reference \n",
    "https://blog.csdn.net/yilulvxing/article/details/85374142  \n",
    "https://blog.csdn.net/brucewong0516/article/details/79121179    "
   ]
  }
 ],
 "metadata": {
  "kernelspec": {
   "display_name": "Python3 tmp.py",
   "language": "python",
   "name": "tmp.py"
  },
  "language_info": {
   "codemirror_mode": {
    "name": "ipython",
    "version": 3
   },
   "file_extension": ".py",
   "mimetype": "text/x-python",
   "name": "python",
   "nbconvert_exporter": "python",
   "pygments_lexer": "ipython3",
   "version": "3.7.4"
  }
 },
 "nbformat": 4,
 "nbformat_minor": 2
}
