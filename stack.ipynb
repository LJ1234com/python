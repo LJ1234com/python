{
 "cells": [
  {
   "cell_type": "code",
   "execution_count": 2,
   "metadata": {},
   "outputs": [],
   "source": [
    "## 从头部和尾部push/pop都可以，\n",
    "## 对于list，从尾部操作时间复杂度为O(1), 而头部操作时间复杂度为O(n)\n",
    "## 对于linked list， 时间复杂度相反\n",
    "class Stack(object):\n",
    "    def __init__(self):\n",
    "        self.__list = []\n",
    "    \n",
    "    def push(self, elem):\n",
    "        self.__list.append(elem)    # 从尾部添加\n",
    "        # self.__list.insert(0, elem) # 从头部添加\n",
    "    \n",
    "    def pop(self):\n",
    "        if self.__list == []:\n",
    "            return None\n",
    "        else:\n",
    "            return self.__list.pop()   # 从尾部pop\n",
    "            # self.__list.pop(0)       # 从头部pop\n",
    "    \n",
    "    def peek(self):\n",
    "        if self.__list:\n",
    "            return self.__list[-1]\n",
    "        else:\n",
    "            return None    \n",
    "    \n",
    "    def is_empty(self):\n",
    "        return self.__list == []\n",
    "    \n",
    "    def size(self):\n",
    "        return len(self.__list)\n",
    "   "
   ]
  },
  {
   "cell_type": "code",
   "execution_count": 3,
   "metadata": {},
   "outputs": [
    {
     "name": "stdout",
     "output_type": "stream",
     "text": [
      "True\n",
      "33\n",
      "33\n",
      "14\n",
      "11\n",
      "None\n"
     ]
    }
   ],
   "source": [
    "s = Stack()\n",
    "print(s.is_empty())\n",
    "   \n",
    "s.push(11)\n",
    "s.push(14)\n",
    "s.push(33)\n",
    "print(s.peek())\n",
    "print(s.pop())\n",
    "print(s.pop())\n",
    "print(s.pop())\n",
    "print(s.pop())"
   ]
  },
  {
   "cell_type": "code",
   "execution_count": null,
   "metadata": {},
   "outputs": [],
   "source": []
  }
 ],
 "metadata": {
  "kernelspec": {
   "display_name": "Python3 tmp.py",
   "language": "python",
   "name": "tmp.py"
  },
  "language_info": {
   "codemirror_mode": {
    "name": "ipython",
    "version": 3
   },
   "file_extension": ".py",
   "mimetype": "text/x-python",
   "name": "python",
   "nbconvert_exporter": "python",
   "pygments_lexer": "ipython3",
   "version": "3.7.4"
  }
 },
 "nbformat": 4,
 "nbformat_minor": 2
}
