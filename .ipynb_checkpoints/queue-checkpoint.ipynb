{
 "cells": [
  {
   "cell_type": "code",
   "execution_count": 4,
   "metadata": {},
   "outputs": [],
   "source": [
    "## 选择在头部或者是在尾部添加，取决于该queue的enqueue操作多还是dequeue多\n",
    "class Queue(object):\n",
    "    def __init__(self):\n",
    "        self.__list = []\n",
    "        \n",
    "    def enqueue(self, elem):\n",
    "        self.__list.append(elem)    # O(1)\n",
    "        # self.__list.insert(0)     # O(n)\n",
    "        \n",
    "    def dequeue(self):\n",
    "        return self.__list.pop(0)   # O(n)\n",
    "        # return self.__list.pop()  # O(1)\n",
    "        \n",
    "    def is_empty(self):\n",
    "        return self.__list == []\n",
    "        \n",
    "    def size(self):\n",
    "        return len(self.__list)      "
   ]
  },
  {
   "cell_type": "code",
   "execution_count": 5,
   "metadata": {},
   "outputs": [
    {
     "name": "stdout",
     "output_type": "stream",
     "text": [
      "True\n",
      "3\n",
      "11\n",
      "14\n",
      "33\n"
     ]
    }
   ],
   "source": [
    "q = Queue()\n",
    "print(q.is_empty())\n",
    "   \n",
    "q.enqueue(11)\n",
    "q.enqueue(14)\n",
    "q.enqueue(33)\n",
    "\n",
    "print(q.size())\n",
    "print(q.dequeue())\n",
    "print(q.dequeue())\n",
    "print(q.dequeue())"
   ]
  },
  {
   "cell_type": "code",
   "execution_count": null,
   "metadata": {},
   "outputs": [],
   "source": []
  }
 ],
 "metadata": {
  "kernelspec": {
   "display_name": "Python3 tmp.py",
   "language": "python",
   "name": "tmp.py"
  },
  "language_info": {
   "codemirror_mode": {
    "name": "ipython",
    "version": 3
   },
   "file_extension": ".py",
   "mimetype": "text/x-python",
   "name": "python",
   "nbconvert_exporter": "python",
   "pygments_lexer": "ipython3",
   "version": "3.7.4"
  }
 },
 "nbformat": 4,
 "nbformat_minor": 2
}
