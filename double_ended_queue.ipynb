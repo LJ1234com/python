{
 "cells": [
  {
   "cell_type": "code",
   "execution_count": 1,
   "metadata": {},
   "outputs": [],
   "source": [
    "class Dqueue(object):\n",
    "    def __init__(self):\n",
    "        self.__list = []\n",
    "        \n",
    "    def add_front(self, elem):\n",
    "        self.__list.insert(0)    \n",
    "        \n",
    "    def add_rear(self, elem):\n",
    "        self.__list.append(elem)  \n",
    "    \n",
    "    def pop_front(self, elem):\n",
    "        return self.__list.pop(0)    \n",
    "        \n",
    "    def pop_rear(self):\n",
    "        return self.__list.pop()   \n",
    "\n",
    "    def is_empty(self):\n",
    "        return self.__list == []\n",
    "        \n",
    "    def size(self):\n",
    "        return len(self.__list)  "
   ]
  },
  {
   "cell_type": "code",
   "execution_count": null,
   "metadata": {},
   "outputs": [],
   "source": [
    "dq = Queue()\n",
    "print(dq.is_empty())\n",
    "   \n",
    "dq.enqueue(11)\n",
    "dq.enqueue(14)\n",
    "dq.enqueue(33)\n",
    "\n",
    "print(dq.size())\n",
    "print(dq.dequeue())\n",
    "print(dq.dequeue())\n",
    "print(dq.dequeue())"
   ]
  }
 ],
 "metadata": {
  "kernelspec": {
   "display_name": "Python3 tmp.py",
   "language": "python",
   "name": "tmp.py"
  },
  "language_info": {
   "codemirror_mode": {
    "name": "ipython",
    "version": 3
   },
   "file_extension": ".py",
   "mimetype": "text/x-python",
   "name": "python",
   "nbconvert_exporter": "python",
   "pygments_lexer": "ipython3",
   "version": "3.7.4"
  }
 },
 "nbformat": 4,
 "nbformat_minor": 2
}
