{
 "cells": [
  {
   "cell_type": "code",
   "execution_count": 6,
   "metadata": {},
   "outputs": [],
   "source": [
    "class Node(object):\n",
    "    def __init__(self, data, pnext = None):\n",
    "        self.data = data\n",
    "        self.next = pnext\n",
    "\n",
    "    def __repr__(self):\n",
    "        return str(self.data)\n",
    "\n",
    "class ChainTable(object):\n",
    "    def __init__(self):\n",
    "        self.head = None\n",
    "        self.length = 0\n",
    "\n",
    "    def isempty(self):\n",
    "        return self.length == 0\n",
    "\n",
    "    def append(self, elem):\n",
    "        print(elem)\n",
    "        item = None\n",
    "        if isinstance(elem, Node):\n",
    "            item = elem\n",
    "        else:\n",
    "            item = Node(elem)\n",
    "\n",
    "        if not self.head:\n",
    "            self.head = item\n",
    "            self.length += 1\n",
    "        else:\n",
    "            node = self.head\n",
    "            print(node.next)\n",
    "            while node.next:\n",
    "                node = node.next\n",
    "            node.next = item\n",
    "            self.length += 1\n",
    "\n",
    "    def __repr__(self):\n",
    "        if self.isempty():\n",
    "            return \"empty chain table\"\n",
    "        node = self.head\n",
    "        nlist = ''\n",
    "        while node:\n",
    "            nlist += str(node.data) + ' '\n",
    "            node = node.next\n",
    "        return nlist\n",
    "\n",
    "    def __len__(self):\n",
    "        return self.length\n"
   ]
  },
  {
   "cell_type": "code",
   "execution_count": 7,
   "metadata": {},
   "outputs": [
    {
     "name": "stdout",
     "output_type": "stream",
     "text": [
      "empty chain table\n",
      "a0\n",
      "a1\n",
      "None\n",
      "a2\n",
      "a1\n",
      "a0 a1 a2 \n"
     ]
    }
   ],
   "source": [
    "chaintable = ChainTable()\n",
    "print(chaintable)\n",
    "\n",
    "for i in range(3):\n",
    "    chaintable.append('a'+str(i))\n",
    "\n",
    "print(chaintable)"
   ]
  },
  {
   "cell_type": "markdown",
   "metadata": {},
   "source": [
    "## Reference\n",
    "https://www.cnblogs.com/king-ding/p/pythonchaintable.html  \n",
    "https://www.cnblogs.com/yupeng/p/3413763.html  \n",
    "https://blog.csdn.net/Blood_Seeker/article/details/78992722  \n",
    "https://blog.csdn.net/pythonkun/article/details/80722901  \n",
    "https://www.jianshu.com/p/5a30ef98d121  \n",
    "https://www.jianshu.com/p/9f2aca048c84  "
   ]
  }
 ],
 "metadata": {
  "celltoolbar": "Raw Cell Format",
  "kernelspec": {
   "display_name": "Python3 tmp.py",
   "language": "python",
   "name": "tmp.py"
  },
  "language_info": {
   "codemirror_mode": {
    "name": "ipython",
    "version": 3
   },
   "file_extension": ".py",
   "mimetype": "text/x-python",
   "name": "python",
   "nbconvert_exporter": "python",
   "pygments_lexer": "ipython3",
   "version": "3.7.4"
  }
 },
 "nbformat": 4,
 "nbformat_minor": 2
}
