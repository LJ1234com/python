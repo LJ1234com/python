{
 "cells": [
  {
   "cell_type": "markdown",
   "metadata": {},
   "source": [
    "## 1. Singly Linked List"
   ]
  },
  {
   "cell_type": "code",
   "execution_count": null,
   "metadata": {},
   "outputs": [],
   "source": [
    "class Node(object):\n",
    "    def __init__(self, elem):\n",
    "        self.elem = elem\n",
    "        self.next = None"
   ]
  },
  {
   "cell_type": "code",
   "execution_count": 22,
   "metadata": {},
   "outputs": [],
   "source": [
    "class SingelLinkedList(object):\n",
    "    def __init__(self, node=None):\n",
    "        self.head = node\n",
    "        \n",
    "    def is_empty(self):\n",
    "        return self.head == None\n",
    "    \n",
    "    def travel(self):\n",
    "        current = self.head      # current node\n",
    "        link = []\n",
    "        while current != None:\n",
    "            link.append(current.elem)\n",
    "            current = current.next\n",
    "        return link\n",
    "            \n",
    "    def length(self):\n",
    "        current = self.head\n",
    "        count = 0\n",
    "        while current != None:\n",
    "            count += 1\n",
    "            current = current.next\n",
    "        return count\n",
    "    \n",
    "    def append(self, elem):     # add node at the end\n",
    "        node = Node(elem)\n",
    "        current = self.head\n",
    "        if current == None:\n",
    "            self.head = node\n",
    "        else:\n",
    "            while current.next != None:\n",
    "                current = current.next\n",
    "            current.next = node\n",
    "            \n",
    "    def add(self, elem):     # add node at the head\n",
    "        node = Node(elem)\n",
    "        node.next = self.head\n",
    "        self.head = node\n",
    "        \n",
    "    def insert(self, pos, elem):\n",
    "        if pos <= 0:\n",
    "            self.add(elem)\n",
    "        elif pos >= self.length():\n",
    "            self.append(elem)\n",
    "        else:\n",
    "            node = Node(elem)\n",
    "            current = self.head\n",
    "            count = 0\n",
    "            while count != pos - 1:\n",
    "                current = current.next\n",
    "                count += 1\n",
    "            node.next = current.next\n",
    "            current.next = node\n",
    "            \n",
    "    def search(self, elem):\n",
    "        current = self.head       \n",
    "        while current != None:\n",
    "            if current.elem == elem:\n",
    "                return True\n",
    "            else:\n",
    "                current = current.next\n",
    "        return False\n",
    "    \n",
    "    def remove(self, elem):\n",
    "        pre = None\n",
    "        current = self.head\n",
    "        while current != None:\n",
    "            if current.elem == elem:\n",
    "                if current == self.head:      # head == removed elem\n",
    "                    self.head = current.next\n",
    "                else:\n",
    "                    pre.next = current.next\n",
    "                break\n",
    "            else:\n",
    "                pre = current\n",
    "                current = current.next\n"
   ]
  },
  {
   "cell_type": "code",
   "execution_count": 10,
   "metadata": {},
   "outputs": [],
   "source": [
    "link_list = SingelLinkedList()"
   ]
  },
  {
   "cell_type": "code",
   "execution_count": 11,
   "metadata": {},
   "outputs": [
    {
     "name": "stdout",
     "output_type": "stream",
     "text": [
      "True\n",
      "0\n"
     ]
    }
   ],
   "source": [
    "print(link_list.is_empty())\n",
    "print(link_list.length())"
   ]
  },
  {
   "cell_type": "code",
   "execution_count": 12,
   "metadata": {},
   "outputs": [
    {
     "name": "stdout",
     "output_type": "stream",
     "text": [
      "False\n",
      "3\n",
      "[1, 5, 3]\n"
     ]
    }
   ],
   "source": [
    "link_list.append(1)\n",
    "link_list.append(5)\n",
    "link_list.append(3)\n",
    "\n",
    "print(link_list.is_empty())\n",
    "print(link_list.length())\n",
    "print(link_list.travel())"
   ]
  },
  {
   "cell_type": "code",
   "execution_count": 13,
   "metadata": {},
   "outputs": [
    {
     "name": "stdout",
     "output_type": "stream",
     "text": [
      "[33, 1, 5, 3]\n"
     ]
    }
   ],
   "source": [
    "link_list.add(33)\n",
    "print(link_list.travel())"
   ]
  },
  {
   "cell_type": "code",
   "execution_count": 14,
   "metadata": {},
   "outputs": [
    {
     "name": "stdout",
     "output_type": "stream",
     "text": [
      "[11, 33, 1, 5, 3]\n",
      "[12, 11, 33, 1, 5, 3]\n",
      "[12, 11, 33, 13, 1, 5, 3]\n",
      "[12, 11, 33, 13, 1, 5, 14, 3]\n",
      "[12, 11, 33, 13, 1, 5, 14, 3, 15]\n"
     ]
    }
   ],
   "source": [
    "link_list.insert(-5, 11)\n",
    "print(link_list.travel())\n",
    "\n",
    "link_list.insert(0, 12)\n",
    "print(link_list.travel())\n",
    "\n",
    "link_list.insert(3, 13)\n",
    "print(link_list.travel())\n",
    "\n",
    "link_list.insert(6, 14)\n",
    "print(link_list.travel())\n",
    "\n",
    "link_list.insert(10, 15)\n",
    "print(link_list.travel())"
   ]
  },
  {
   "cell_type": "code",
   "execution_count": 15,
   "metadata": {},
   "outputs": [
    {
     "name": "stdout",
     "output_type": "stream",
     "text": [
      "True\n",
      "True\n",
      "False\n"
     ]
    }
   ],
   "source": [
    "print(link_list.search(12))\n",
    "print(link_list.search(15))\n",
    "print(link_list.search(17))"
   ]
  },
  {
   "cell_type": "code",
   "execution_count": 24,
   "metadata": {
    "scrolled": true
   },
   "outputs": [
    {
     "name": "stdout",
     "output_type": "stream",
     "text": [
      "[11, 13, 1, 5, 14, 3]\n",
      "[11, 13, 1, 5, 14, 3]\n",
      "[11, 13, 1, 5, 14, 3]\n",
      "[11, 13, 1, 5, 14, 3]\n"
     ]
    }
   ],
   "source": [
    "link_list.remove(33)\n",
    "print(link_list.travel())\n",
    "\n",
    "link_list.remove(12)\n",
    "print(link_list.travel())\n",
    "\n",
    "link_list.remove(15)\n",
    "print(link_list.travel())\n",
    "\n",
    "link_list.remove(17)\n",
    "print(link_list.travel())"
   ]
  },
  {
   "cell_type": "markdown",
   "metadata": {},
   "source": [
    "## 2.  Singly Linked Circular List"
   ]
  },
  {
   "cell_type": "code",
   "execution_count": 1,
   "metadata": {},
   "outputs": [],
   "source": [
    "class Node(object):\n",
    "    def __init__(self, elem):\n",
    "        self.elem = elem\n",
    "        self.next = None"
   ]
  },
  {
   "cell_type": "code",
   "execution_count": 3,
   "metadata": {},
   "outputs": [],
   "source": [
    "## 特殊情况：控链表和只有一个元素的链表\n",
    "\n",
    "class SingelCircularLinkedList(object):\n",
    "    def __init__(self, node=None):\n",
    "        self.head = node\n",
    "        if node:              #如果头节点不为空，则使尾节点指向头节点\n",
    "            node.next = node  #self.head           \n",
    "        \n",
    "    def is_empty(self):\n",
    "        return self.head == None\n",
    "    \n",
    "    def travel(self):\n",
    "        current = self.head      # current node\n",
    "        if current == None:\n",
    "            return [] \n",
    "        link = []\n",
    "        while current.next != self.head:\n",
    "            link.append(current.elem)\n",
    "            current = current.next\n",
    "        link.append(current.elem)\n",
    "        return link\n",
    "            \n",
    "    def length(self):\n",
    "        current = self.head\n",
    "        if current == None:\n",
    "            return 0\n",
    "        count = 1    #0\n",
    "        while current.next != self.head:    #current != self.head :\n",
    "            count += 1\n",
    "            current = current.next\n",
    "        return count\n",
    "    \n",
    "    def append(self, elem):     # add node at the end\n",
    "        node = Node(elem)\n",
    "        current = self.head\n",
    "        if current == None:\n",
    "            self.head = node\n",
    "            node.next = node\n",
    "        else:\n",
    "            while current.next != self.head:\n",
    "                current = current.next\n",
    "            current.next = node\n",
    "            node.next = self.head\n",
    "            \n",
    "    def add(self, elem):     # add node at the head\n",
    "        node = Node(elem)\n",
    "        if self.head == None:\n",
    "            self.head = node\n",
    "            node.next = node     #self.head\n",
    "        else:            \n",
    "            current = self.head\n",
    "            while current.next != self.head:\n",
    "                current = current.next\n",
    "            node.next = self.head\n",
    "            self.head = node\n",
    "            current.next = node  # or current.next = self.head\n",
    "        \n",
    "    def insert(self, pos, elem):    # 与单链表相同\n",
    "        if pos <= 0:\n",
    "            self.add(elem)\n",
    "        elif pos >= self.length():\n",
    "            self.append(elem)\n",
    "        else:\n",
    "            node = Node(elem)\n",
    "            current = self.head\n",
    "            count = 0\n",
    "            while count != pos - 1:\n",
    "                current = current.next\n",
    "                count += 1\n",
    "            node.next = current.next\n",
    "            current.next = node\n",
    "            \n",
    "    def search(self, elem):\n",
    "        if self.head == None:\n",
    "            return False\n",
    "        current = self.head       \n",
    "        while current.next != self.head:\n",
    "            if current.elem == elem:\n",
    "                return True\n",
    "            else:\n",
    "                current = current.next\n",
    "        if current.elem == elem:\n",
    "            return True\n",
    "        return False\n",
    "    \n",
    "    def remove(self, elem):\n",
    "        if self.head == None:\n",
    "            return \n",
    "        pre = None\n",
    "        current = self.head\n",
    "        while current.next != self.head:\n",
    "            if current.elem == elem:\n",
    "                if current == self.head:      # head == removed elem\n",
    "                    rear = self.next\n",
    "                    while rear.next != self.head:\n",
    "                        rear = rear.next\n",
    "                    self.head = current.next\n",
    "                    rear.next = self.head  \n",
    "                else:\n",
    "                    pre.next = current.next\n",
    "                return\n",
    "            else:\n",
    "                pre = current\n",
    "                current = current.next\n",
    "        if current.elem == elem:          # 处理最后一个节点\n",
    "            if current == self.head:  # 链表只有一个节点\n",
    "                self.heand = None\n",
    "            else:\n",
    "                pre.next = current.next  # or: pre.next = self.head\n"
   ]
  },
  {
   "cell_type": "code",
   "execution_count": null,
   "metadata": {},
   "outputs": [],
   "source": []
  },
  {
   "cell_type": "markdown",
   "metadata": {},
   "source": [
    "## 3. Doubly Linked List"
   ]
  },
  {
   "cell_type": "code",
   "execution_count": 4,
   "metadata": {},
   "outputs": [],
   "source": [
    "class Node(object):\n",
    "    def __init__(self, elem):\n",
    "        self.elem = elem\n",
    "        self.prev = None\n",
    "        self.next = None"
   ]
  },
  {
   "cell_type": "code",
   "execution_count": 6,
   "metadata": {},
   "outputs": [],
   "source": [
    "class DoubleLinkedList(object):\n",
    "    def __init__(self, node=None):\n",
    "        self.head = node\n",
    "        \n",
    "    def is_empty(self):\n",
    "        return self.head == None\n",
    "    \n",
    "    def travel(self):\n",
    "        current = self.head      # current node\n",
    "        link = []\n",
    "        while current != None:\n",
    "            link.append(current.elem)\n",
    "            current = current.next\n",
    "        return link\n",
    "            \n",
    "    def length(self):\n",
    "        current = self.head\n",
    "        count = 0\n",
    "        while current != None:\n",
    "            count += 1\n",
    "            current = current.next\n",
    "        return count\n",
    "    \n",
    "    def append(self, elem):     # add node at the end\n",
    "        node = Node(elem)\n",
    "        current = self.head\n",
    "        if current == None:\n",
    "            self.head = node\n",
    "        else:\n",
    "            while current.next != None:\n",
    "                current = current.next\n",
    "            current.next = node\n",
    "            node.prev = current\n",
    "            \n",
    "    def add(self, elem):     # add node at the head\n",
    "        node = Node(elem)\n",
    "        node.next = self.head\n",
    "        #self.head = node\n",
    "        #node.next.prev = node\n",
    "        ## OR:\n",
    "        self.head.prev = node\n",
    "        self.head = node\n",
    "        \n",
    "        \n",
    "    def insert(self, pos, elem):\n",
    "        if pos <= 0:\n",
    "            self.add(elem)\n",
    "        elif pos >= self.length():\n",
    "            self.append(elem)\n",
    "        else:\n",
    "            node = Node(elem)\n",
    "            current = self.head\n",
    "            count = 0\n",
    "            while count != pos - 1:\n",
    "                current = current.next\n",
    "                count += 1\n",
    "            node.next = current.next\n",
    "            current.next = node\n",
    "            node.prev = current\n",
    "            node.next.prev = node\n",
    "            \n",
    "            \n",
    "    def search(self, elem):\n",
    "        current = self.head       \n",
    "        while current != None:\n",
    "            if current.elem == elem:\n",
    "                return True\n",
    "            else:\n",
    "                current = current.next\n",
    "        return False\n",
    "    \n",
    "    def remove(self, elem):\n",
    "        pre = None\n",
    "        current = self.head\n",
    "        while current != None:\n",
    "            if current.elem == elem:\n",
    "                if current == self.head:      # head == removed elem\n",
    "                    self.head = current.next\n",
    "                else:\n",
    "                    pre.next = current.next\n",
    "                break\n",
    "            else:\n",
    "                pre = current\n",
    "                current = current.next\n",
    "        "
   ]
  },
  {
   "cell_type": "code",
   "execution_count": 8,
   "metadata": {},
   "outputs": [
    {
     "name": "stdout",
     "output_type": "stream",
     "text": [
      "[33, 1, 5, 3]\n"
     ]
    }
   ],
   "source": [
    "dll = DoubleLinkedList()\n",
    "dll.append(1)\n",
    "dll.append(5)\n",
    "dll.append(3)\n",
    "dll.add(33)\n",
    "print(dll.travel())"
   ]
  },
  {
   "cell_type": "code",
   "execution_count": 9,
   "metadata": {},
   "outputs": [
    {
     "name": "stdout",
     "output_type": "stream",
     "text": [
      "[33, 1, 44, 5, 3]\n"
     ]
    }
   ],
   "source": [
    "dll.insert(2,44)\n",
    "print(dll.travel())"
   ]
  },
  {
   "cell_type": "code",
   "execution_count": null,
   "metadata": {},
   "outputs": [],
   "source": []
  },
  {
   "cell_type": "markdown",
   "metadata": {},
   "source": [
    "## Reference\n",
    "https://www.cnblogs.com/king-ding/p/pythonchaintable.html  \n",
    "https://www.cnblogs.com/yupeng/p/3413763.html  \n",
    "https://blog.csdn.net/Blood_Seeker/article/details/78992722  \n",
    "https://blog.csdn.net/pythonkun/article/details/80722901  \n",
    "https://www.jianshu.com/p/5a30ef98d121  \n",
    "https://www.jianshu.com/p/9f2aca048c84  "
   ]
  },
  {
   "cell_type": "code",
   "execution_count": null,
   "metadata": {},
   "outputs": [],
   "source": []
  },
  {
   "cell_type": "code",
   "execution_count": null,
   "metadata": {},
   "outputs": [],
   "source": []
  }
 ],
 "metadata": {
  "celltoolbar": "Raw Cell Format",
  "kernelspec": {
   "display_name": "Python3 tmp.py",
   "language": "python",
   "name": "tmp.py"
  },
  "language_info": {
   "codemirror_mode": {
    "name": "ipython",
    "version": 3
   },
   "file_extension": ".py",
   "mimetype": "text/x-python",
   "name": "python",
   "nbconvert_exporter": "python",
   "pygments_lexer": "ipython3",
   "version": "3.7.4"
  }
 },
 "nbformat": 4,
 "nbformat_minor": 2
}
